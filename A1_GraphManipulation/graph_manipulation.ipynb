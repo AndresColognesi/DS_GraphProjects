{
 "cells": [
  {
   "cell_type": "markdown",
   "metadata": {},
   "source": [
    "---\n",
    "\n",
    "_You are currently looking at **version 1.1** of this notebook. To download notebooks and datafiles, as well as get help on Jupyter notebooks in the Coursera platform, visit the [Jupyter Notebook FAQ](https://www.coursera.org/learn/python-social-network-analysis/resources/yPcBs) course resource._\n",
    "\n",
    "---"
   ]
  },
  {
   "cell_type": "markdown",
   "metadata": {},
   "source": [
    "# Assignment 1 - Creating and Manipulating Graphs\n",
    "\n",
    "Eight employees at a small company were asked to choose 3 movies that they would most enjoy watching for the upcoming company movie night. These choices are stored in the file `Employee_Movie_Choices.txt`.\n",
    "\n",
    "A second file, `Employee_Relationships.txt`, has data on the relationships between different coworkers. \n",
    "\n",
    "The relationship score has value of `-100` (Enemies) to `+100` (Best Friends). A value of zero means the two employees haven't interacted or are indifferent.\n",
    "\n",
    "Both files are tab delimited."
   ]
  },
  {
   "cell_type": "code",
   "execution_count": 1,
   "metadata": {
    "collapsed": true
   },
   "outputs": [],
   "source": [
    "import networkx as nx\n",
    "import pandas as pd\n",
    "import numpy as np\n",
    "from networkx.algorithms import bipartite\n",
    "\n",
    "\n",
    "# This is the set of employees\n",
    "employees = set(['Pablo',\n",
    "                 'Lee',\n",
    "                 'Georgia',\n",
    "                 'Vincent',\n",
    "                 'Andy',\n",
    "                 'Frida',\n",
    "                 'Joan',\n",
    "                 'Claude'])\n",
    "\n",
    "# This is the set of movies\n",
    "movies = set(['The Shawshank Redemption',\n",
    "              'Forrest Gump',\n",
    "              'The Matrix',\n",
    "              'Anaconda',\n",
    "              'The Social Network',\n",
    "              'The Godfather',\n",
    "              'Monty Python and the Holy Grail',\n",
    "              'Snakes on a Plane',\n",
    "              'Kung Fu Panda',\n",
    "              'The Dark Knight',\n",
    "              'Mean Girls'])\n",
    "\n",
    "\n",
    "# you can use the following function to plot graphs\n",
    "# make sure to comment it out before submitting to the autograder\n",
    "def plot_graph(G, weight_name=None):\n",
    "    '''\n",
    "    G: a networkx G\n",
    "    weight_name: name of the attribute for plotting edge weights (if G is weighted)\n",
    "    '''\n",
    "    %matplotlib notebook\n",
    "    import matplotlib.pyplot as plt\n",
    "    \n",
    "    plt.figure()\n",
    "    pos = nx.spring_layout(G)\n",
    "    edges = G.edges()\n",
    "    weights = None\n",
    "    \n",
    "    if weight_name:\n",
    "        weights = [int(G[u][v][weight_name]) for u,v in edges]\n",
    "        labels = nx.get_edge_attributes(G,weight_name)\n",
    "        nx.draw_networkx_edge_labels(G,pos,edge_labels=labels)\n",
    "        nx.draw_networkx(G, pos, edges=edges, width=weights);\n",
    "    else:\n",
    "        nx.draw_networkx(G, pos, edges=edges);"
   ]
  },
  {
   "cell_type": "markdown",
   "metadata": {},
   "source": [
    "### Question 1\n",
    "\n",
    "Using NetworkX, load in the bipartite graph from `Employee_Movie_Choices.txt` and return that graph.\n",
    "\n",
    "*This function should return a networkx graph with 19 nodes and 24 edges*"
   ]
  },
  {
   "cell_type": "code",
   "execution_count": 2,
   "metadata": {
    "collapsed": true
   },
   "outputs": [],
   "source": [
    "def answer_one():\n",
    "    # Load data into dataframe (use tab sepparation and skip the first line):\n",
    "    data = pd.read_csv('Employee_Movie_Choices.txt', sep='\\t', header=None, skiprows=1, names=['Employee', 'Movie'])\n",
    "    # Convert dataframe to graph and return:\n",
    "    return nx.from_pandas_dataframe(data, 'Employee', 'Movie')\n",
    "# Testing:\n",
    "#answer_one().edges()"
   ]
  },
  {
   "cell_type": "markdown",
   "metadata": {},
   "source": [
    "### Question 2\n",
    "\n",
    "Using the graph from the previous question, add nodes attributes named `'type'` where movies have the value `'movie'` and employees have the value `'employee'` and return that graph.\n",
    "\n",
    "*This function should return a networkx graph with node attributes `{'type': 'movie'}` or `{'type': 'employee'}`*"
   ]
  },
  {
   "cell_type": "code",
   "execution_count": 3,
   "metadata": {
    "collapsed": true
   },
   "outputs": [],
   "source": [
    "def answer_two():\n",
    "    # Get employee movie graph:\n",
    "    emp_mov_graph = answer_one()\n",
    "    # Loop over sets to create node attibutes:\n",
    "    for movie in movies:\n",
    "        emp_mov_graph.node[movie][\"type\"] = \"movie\"\n",
    "    for employee in employees:\n",
    "        emp_mov_graph.node[employee][\"type\"] = \"employee\"\n",
    "    # Return graph with node attributes:\n",
    "    return emp_mov_graph\n",
    "# Testing:\n",
    "#answer_two().nodes(data=True)"
   ]
  },
  {
   "cell_type": "markdown",
   "metadata": {
    "collapsed": true
   },
   "source": [
    "### Question 3\n",
    "\n",
    "Find a weighted projection of the graph from `answer_two` which tells us how many movies different pairs of employees have in common.\n",
    "\n",
    "*This function should return a weighted projected graph.*"
   ]
  },
  {
   "cell_type": "code",
   "execution_count": 4,
   "metadata": {
    "collapsed": true
   },
   "outputs": [],
   "source": [
    "def answer_three():\n",
    "    # Make projection graph for employees:\n",
    "    return bipartite.weighted_projected_graph(answer_two(), employees)\n",
    "# Testing:\n",
    "#answer_three().nodes()"
   ]
  },
  {
   "cell_type": "markdown",
   "metadata": {
    "collapsed": true
   },
   "source": [
    "### Question 4\n",
    "\n",
    "Suppose you'd like to find out if people that have a high relationship score also like the same types of movies.\n",
    "\n",
    "Find the Pearson correlation ( using `DataFrame.corr()` ) between employee relationship scores and the number of movies they have in common. If two employees have no movies in common it should be treated as a 0, not a missing value, and should be included in the correlation calculation.\n",
    "\n",
    "*This function should return a float.*"
   ]
  },
  {
   "cell_type": "code",
   "execution_count": 21,
   "metadata": {},
   "outputs": [
    {
     "data": {
      "text/plain": [
       "0.78839622217334759"
      ]
     },
     "execution_count": 21,
     "metadata": {},
     "output_type": "execute_result"
    }
   ],
   "source": [
    "def answer_four():\n",
    "    # Load employee relation edge list to dataframe:\n",
    "    rel_df = pd.read_csv('Employee_Relationships.txt', delimiter=\"\\t\", header=None, names=[\"Employee 1\", \"Employee 2\", \"Relation Score\"])\n",
    "    \n",
    "    # Load projection graph:\n",
    "    proj_graph = answer_three()\n",
    "    # Convert graph to pandas dataframe, but as an edge list:\n",
    "    proj_df = pd.DataFrame(proj_graph.edges(data=True), columns=[\"Employee 1\", \"Employee 2\", \"Common Movies\"])\n",
    "    # Keep only the desired number from the dictionary returned as data:\n",
    "    proj_df[\"Common Movies\"] = proj_df[\"Common Movies\"].apply(lambda x: x['weight'])\n",
    "\n",
    "    # To merge both dataframes, we must have the according pairs of Employee 1 and 2.\n",
    "    # Therefore, we will mirror the employees column of our projection. This will\n",
    "    # give us duplicate data, but must be used to merge the dataframes.\n",
    "    \n",
    "    # Switch columns:\n",
    "    switch_proj_df = proj_df[[\"Employee 2\", \"Employee 1\", \"Common Movies\"]]\n",
    "    # Rename columns to match original dataframe:\n",
    "    switch_proj_df.columns = proj_df.columns.tolist()\n",
    "    # Concatenate on original projection dataframe:\n",
    "    full_proj_df = pd.concat([proj_df, switch_proj_df])\n",
    "    \n",
    "    # Merge this full projection dataframe on the relation dataframe:\n",
    "    merged_df = pd.merge(rel_df, full_proj_df, how='left', on=[\"Employee 1\", \"Employee 2\"])\n",
    "    # Fill missing values with 0:\n",
    "    merged_df.fillna(0, inplace=True)\n",
    "    \n",
    "    # Now we can obtain correlation between Relation Score and Common Movies without using\n",
    "    # the specific names as features (as would happen if we extracted adjacent matrices from the two graphs)!\n",
    "    \n",
    "    # Return the correlation between the two variables:\n",
    "    return merged_df.corr()['Relation Score']['Common Movies']\n",
    "\n",
    "# Testing:\n",
    "answer_four()"
   ]
  },
  {
   "cell_type": "code",
   "execution_count": null,
   "metadata": {
    "collapsed": true
   },
   "outputs": [],
   "source": []
  }
 ],
 "metadata": {
  "coursera": {
   "course_slug": "python-social-network-analysis",
   "graded_item_id": "YNa9b",
   "launcher_item_id": "hvNc1",
   "part_id": "VbyiB"
  },
  "kernelspec": {
   "display_name": "Python 3",
   "language": "python",
   "name": "python3"
  },
  "language_info": {
   "codemirror_mode": {
    "name": "ipython",
    "version": 3
   },
   "file_extension": ".py",
   "mimetype": "text/x-python",
   "name": "python",
   "nbconvert_exporter": "python",
   "pygments_lexer": "ipython3",
   "version": "3.6.2"
  }
 },
 "nbformat": 4,
 "nbformat_minor": 2
}
