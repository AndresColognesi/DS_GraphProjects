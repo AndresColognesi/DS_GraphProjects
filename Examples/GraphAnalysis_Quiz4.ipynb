{
  "nbformat": 4,
  "nbformat_minor": 0,
  "metadata": {
    "colab": {
      "name": "GraphAnalysis_Quiz4.ipynb",
      "provenance": []
    },
    "kernelspec": {
      "name": "python3",
      "display_name": "Python 3"
    },
    "language_info": {
      "name": "python"
    }
  },
  "cells": [
    {
      "cell_type": "code",
      "execution_count": 1,
      "metadata": {
        "id": "cEAXm0dTFW2u"
      },
      "outputs": [],
      "source": [
        "import networkx as nx"
      ]
    },
    {
      "cell_type": "code",
      "source": [
        "# Create our directed graph for Q6, 7, 8, 9 and 10:\n",
        "G = nx.Graph()\n",
        "# Add edges:\n",
        "G.add_edges_from([('C', 'G'), ('C', 'A'), ('G', 'D'), ('A', 'D'), ('A', 'E'),\n",
        "                   ('D', 'B'), ('D', 'E'), ('D', 'H'), ('E', 'H'), ('H', 'F')])"
      ],
      "metadata": {
        "id": "36-ueqMHGTH2"
      },
      "execution_count": 2,
      "outputs": []
    },
    {
      "cell_type": "markdown",
      "source": [
        "# Q6"
      ],
      "metadata": {
        "id": "w3uhWo1nKKh4"
      }
    },
    {
      "cell_type": "code",
      "source": [
        "# Create list of tuples with node X, node Y and the common neighbour value:\n",
        "# The non_edges function guarantees we compare only nodes that are not directly\n",
        "# connected!\n",
        "common_neigh = [(node[0], node[1], len(list(nx.common_neighbors(G, node[0], node[1]))))\n",
        "                for node in nx.non_edges(G)]\n",
        "\n",
        "# Sort list in descending order of common neighbour value in place:\n",
        "common_neigh.sort(key=lambda tup: tup[2], reverse=True)\n",
        "\n",
        "# Print result:\n",
        "print(common_neigh)\n",
        "# Answer: node A"
      ],
      "metadata": {
        "colab": {
          "base_uri": "https://localhost:8080/"
        },
        "id": "-1M9Je3LKMlT",
        "outputId": "b902b651-324b-4acb-b948-d0cd4ae151eb"
      },
      "execution_count": null,
      "outputs": [
        {
          "output_type": "stream",
          "name": "stdout",
          "text": [
            "[('G', 'A', 2), ('A', 'H', 2), ('D', 'C', 2), ('G', 'E', 1), ('G', 'B', 1), ('G', 'H', 1), ('F', 'E', 1), ('F', 'D', 1), ('E', 'C', 1), ('E', 'B', 1), ('A', 'B', 1), ('B', 'H', 1), ('G', 'F', 0), ('F', 'A', 0), ('F', 'B', 0), ('F', 'C', 0), ('B', 'C', 0), ('C', 'H', 0)]\n"
          ]
        }
      ]
    },
    {
      "cell_type": "markdown",
      "source": [
        "# Q7"
      ],
      "metadata": {
        "id": "Q91YgtxUNMjv"
      }
    },
    {
      "cell_type": "code",
      "source": [
        "# Compute jaccard coefficient and convert to list:\n",
        "jaccard = list(nx.jaccard_coefficient(G))\n",
        "\n",
        "# Sort list in descending order of jaccard coefficient value in place:\n",
        "jaccard.sort(key=lambda tup: tup[2], reverse=True)\n",
        "\n",
        "# Print result:\n",
        "print(jaccard)\n",
        "# Answer: ('D', 'C', 0.4)"
      ],
      "metadata": {
        "colab": {
          "base_uri": "https://localhost:8080/"
        },
        "id": "-48uA56NNL5I",
        "outputId": "c6c2627c-7e36-45f5-87df-24efeeede03c"
      },
      "execution_count": null,
      "outputs": [
        {
          "output_type": "stream",
          "name": "stdout",
          "text": [
            "[('G', 'A', 0.6666666666666666), ('G', 'B', 0.5), ('A', 'H', 0.5), ('D', 'C', 0.4), ('F', 'E', 0.3333333333333333), ('E', 'B', 0.3333333333333333), ('A', 'B', 0.3333333333333333), ('B', 'H', 0.3333333333333333), ('G', 'E', 0.25), ('G', 'H', 0.25), ('E', 'C', 0.25), ('F', 'D', 0.2), ('G', 'F', 0.0), ('F', 'A', 0.0), ('F', 'B', 0.0), ('F', 'C', 0.0), ('B', 'C', 0.0), ('C', 'H', 0.0)]\n"
          ]
        }
      ]
    },
    {
      "cell_type": "markdown",
      "source": [
        "# Q8"
      ],
      "metadata": {
        "id": "mAETRAWROFnn"
      }
    },
    {
      "cell_type": "code",
      "source": [
        "# Compute resource allocation index and convert to list:\n",
        "rai = list(nx.resource_allocation_index(G))\n",
        "\n",
        "# Sort list in descending order of resource allocation index in place:\n",
        "rai.sort(key=lambda tup: tup[2], reverse=True)\n",
        "\n",
        "# Print result:\n",
        "print(rai)\n",
        "# Answer: ('D', 'C', 0.83333333333)"
      ],
      "metadata": {
        "colab": {
          "base_uri": "https://localhost:8080/"
        },
        "id": "I4aAE9SrOGvB",
        "outputId": "1536146c-4503-4262-e240-4f14b4d6d5cd"
      },
      "execution_count": null,
      "outputs": [
        {
          "output_type": "stream",
          "name": "stdout",
          "text": [
            "[('D', 'C', 0.8333333333333333), ('G', 'A', 0.7), ('A', 'H', 0.5333333333333333), ('F', 'E', 0.3333333333333333), ('F', 'D', 0.3333333333333333), ('E', 'C', 0.3333333333333333), ('G', 'E', 0.2), ('G', 'B', 0.2), ('G', 'H', 0.2), ('E', 'B', 0.2), ('A', 'B', 0.2), ('B', 'H', 0.2), ('G', 'F', 0), ('F', 'A', 0), ('F', 'B', 0), ('F', 'C', 0), ('B', 'C', 0), ('C', 'H', 0)]\n"
          ]
        }
      ]
    },
    {
      "cell_type": "markdown",
      "source": [
        "# Q9"
      ],
      "metadata": {
        "id": "OTbvlS6EOpnx"
      }
    },
    {
      "cell_type": "code",
      "source": [
        "# Compute preferential attachment score and convert to list:\n",
        "pref_att = list(nx.preferential_attachment(G))\n",
        "\n",
        "# Sort list in descending order of preferential attachment score in place:\n",
        "pref_att.sort(key=lambda tup: tup[2], reverse=True)\n",
        "\n",
        "# Print result:\n",
        "print(pref_att)\n",
        "# Answer: ('D', 'C', 10)"
      ],
      "metadata": {
        "colab": {
          "base_uri": "https://localhost:8080/"
        },
        "id": "I2qgq2iNOqz-",
        "outputId": "125c1e0f-76ab-45c7-e750-ce53cd2cf5d7"
      },
      "execution_count": null,
      "outputs": [
        {
          "output_type": "stream",
          "name": "stdout",
          "text": [
            "[('D', 'C', 10), ('A', 'H', 9), ('G', 'E', 6), ('G', 'A', 6), ('G', 'H', 6), ('E', 'C', 6), ('C', 'H', 6), ('F', 'D', 5), ('F', 'E', 3), ('F', 'A', 3), ('E', 'B', 3), ('A', 'B', 3), ('B', 'H', 3), ('G', 'F', 2), ('G', 'B', 2), ('F', 'C', 2), ('B', 'C', 2), ('F', 'B', 1)]\n"
          ]
        }
      ]
    },
    {
      "cell_type": "markdown",
      "source": [
        "# Q10"
      ],
      "metadata": {
        "id": "LYqBzpv6QCba"
      }
    },
    {
      "cell_type": "code",
      "source": [
        "# Define nodes of communities:\n",
        "comm0 = ['A', 'B', 'C', 'D', 'G']\n",
        "comm1 = ['E', 'F', 'H']\n",
        "\n",
        "# Create communities in our graph:\n",
        "for n in comm0:\n",
        "  G.nodes()[n]['community'] = 0\n",
        "for n in comm1:\n",
        "  G.nodes()[n]['community'] = 1\n",
        "\n",
        "# Compute Common Neighbour Soundarajan-Hopcroft score and store as list:\n",
        "cn = list(nx.cn_soundarajan_hopcroft(G))\n",
        "# Print this result:\n",
        "print(f\"Common Neighbour: {cn}\")"
      ],
      "metadata": {
        "colab": {
          "base_uri": "https://localhost:8080/"
        },
        "id": "GcXQ06NuQDha",
        "outputId": "f0acfec4-7102-4197-e7a8-6197a8133077"
      },
      "execution_count": 3,
      "outputs": [
        {
          "output_type": "stream",
          "name": "stdout",
          "text": [
            "Common Neighbour: [('B', 'F', 0), ('B', 'E', 1), ('B', 'C', 0), ('B', 'G', 2), ('B', 'H', 1), ('B', 'A', 2), ('F', 'E', 2), ('F', 'C', 0), ('F', 'G', 0), ('F', 'A', 0), ('F', 'D', 1), ('E', 'C', 1), ('E', 'G', 1), ('G', 'A', 4), ('G', 'H', 1), ('C', 'H', 0), ('C', 'D', 4), ('H', 'A', 2)]\n"
          ]
        }
      ]
    }
  ]
}