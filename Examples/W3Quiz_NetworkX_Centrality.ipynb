{
  "nbformat": 4,
  "nbformat_minor": 0,
  "metadata": {
    "colab": {
      "name": "NetworkX_CentralityTest.ipynb",
      "provenance": [],
      "collapsed_sections": []
    },
    "kernelspec": {
      "name": "python3",
      "display_name": "Python 3"
    },
    "language_info": {
      "name": "python"
    }
  },
  "cells": [
    {
      "cell_type": "code",
      "execution_count": null,
      "metadata": {
        "id": "sq_SADn9CB7O"
      },
      "outputs": [],
      "source": [
        "import networkx as nx"
      ]
    },
    {
      "cell_type": "code",
      "source": [
        "# Create undirected graph:\n",
        "G = nx.Graph()\n",
        "# Create all edgedes:\n",
        "G.add_edges_from([('A', 'B'), ('A', 'C'), ('B', 'D'), ('C', 'D'), ('C', 'E'), ('D', 'E'), ('D', 'G'), ('E', 'G'), ('G', 'F')])\n",
        "\n",
        "# Display edges:\n",
        "G.edges()"
      ],
      "metadata": {
        "colab": {
          "base_uri": "https://localhost:8080/"
        },
        "id": "59ofzlL1CHZC",
        "outputId": "4dff8f18-6d62-4b2b-e864-fcc19db3d6e2"
      },
      "execution_count": null,
      "outputs": [
        {
          "output_type": "execute_result",
          "data": {
            "text/plain": [
              "EdgeView([('A', 'B'), ('A', 'C'), ('B', 'D'), ('C', 'D'), ('C', 'E'), ('D', 'E'), ('D', 'G'), ('E', 'G'), ('G', 'F')])"
            ]
          },
          "metadata": {},
          "execution_count": 4
        }
      ]
    },
    {
      "cell_type": "markdown",
      "source": [
        "# Q1"
      ],
      "metadata": {
        "id": "xQ8PFbc6G9lz"
      }
    },
    {
      "cell_type": "code",
      "source": [
        "# Calculate degree centrality for the whole network:\n",
        "degCent = nx.degree_centrality(G)\n",
        "# Obtain for node D:\n",
        "degCent['D']"
      ],
      "metadata": {
        "colab": {
          "base_uri": "https://localhost:8080/"
        },
        "id": "K5OYkhBXCiDQ",
        "outputId": "1811ad93-98ff-4dda-ec88-9f3535f3f53d"
      },
      "execution_count": null,
      "outputs": [
        {
          "output_type": "execute_result",
          "data": {
            "text/plain": [
              "0.6666666666666666"
            ]
          },
          "metadata": {},
          "execution_count": 7
        }
      ]
    },
    {
      "cell_type": "markdown",
      "source": [
        "# Q2"
      ],
      "metadata": {
        "id": "8lR6hiMXHANJ"
      }
    },
    {
      "cell_type": "code",
      "source": [
        "# Calculate closeness centrality:\n",
        "closeCent = nx.closeness_centrality(G)\n",
        "# Obtain for node G:\n",
        "closeCent['G']"
      ],
      "metadata": {
        "colab": {
          "base_uri": "https://localhost:8080/"
        },
        "id": "WGnednA5D61r",
        "outputId": "08b8f2df-d533-4fc6-c0f0-e801547fd689"
      },
      "execution_count": null,
      "outputs": [
        {
          "output_type": "execute_result",
          "data": {
            "text/plain": [
              "0.6"
            ]
          },
          "metadata": {},
          "execution_count": 8
        }
      ]
    },
    {
      "cell_type": "markdown",
      "source": [
        "# Q3"
      ],
      "metadata": {
        "id": "tnpNrWTtHB4J"
      }
    },
    {
      "cell_type": "code",
      "source": [
        "# Calculate normalized betweenness centrality excluding endpoints for whole network:\n",
        "btwnCent = nx.betweenness_centrality(G, normalized=True, endpoints=False)\n",
        "# Obtain for node G:\n",
        "btwnCent['G']"
      ],
      "metadata": {
        "colab": {
          "base_uri": "https://localhost:8080/"
        },
        "id": "KqoqNkDKELJM",
        "outputId": "41c007e1-82e6-4a7f-cb0e-3533f4cd8b8c"
      },
      "execution_count": null,
      "outputs": [
        {
          "output_type": "execute_result",
          "data": {
            "text/plain": [
              "0.3333333333333333"
            ]
          },
          "metadata": {},
          "execution_count": 9
        }
      ]
    },
    {
      "cell_type": "markdown",
      "source": [
        "# Q4"
      ],
      "metadata": {
        "id": "TGqDoiN_HPmT"
      }
    },
    {
      "cell_type": "code",
      "source": [
        "# Calculate edge betweenness centrality without normalization:\n",
        "edgeBtwnCent = nx.edge_betweenness_centrality(G, normalized=False)\n",
        "# Obtain for edge (G, F):\n",
        "edgeBtwnCent[('G', 'F')]"
      ],
      "metadata": {
        "colab": {
          "base_uri": "https://localhost:8080/"
        },
        "id": "t0MtTQqMFHsT",
        "outputId": "ef9c5612-36b0-4e9b-a11e-55bc572a7889"
      },
      "execution_count": null,
      "outputs": [
        {
          "output_type": "execute_result",
          "data": {
            "text/plain": [
              "6.0"
            ]
          },
          "metadata": {},
          "execution_count": 12
        }
      ]
    },
    {
      "cell_type": "markdown",
      "source": [
        "# Q7"
      ],
      "metadata": {
        "id": "drd7TeYBHRuc"
      }
    },
    {
      "cell_type": "code",
      "source": [
        "# Create our multidirected graph:\n",
        "G7 = nx.MultiDiGraph()\n",
        "# Add edges:\n",
        "G7.add_edges_from([('A', 'B'), ('B', 'A'), ('A', 'C'), ('C', 'D'), ('D', 'C')])\n",
        "\n",
        "# Define list of damping values:\n",
        "alphas = [0.95, 0.9, 0.8, 0.5]\n",
        "# Define list to contain Page Rank for node D:\n",
        "PR_D = []\n",
        "# Calculate page rank for different damping parameters:\n",
        "for alpha in alphas:\n",
        "  # Obtain PR for all nodes for current alpha:\n",
        "  PR = nx.pagerank(G7, alpha=alpha)\n",
        "  # Store PR for node D:\n",
        "  PR_D.append(PR['D'])\n",
        "\n",
        "# Print results:\n",
        "print(f\"Alphas: {alphas}\")\n",
        "print(f\"Page Rank for D: {PR_D}\")"
      ],
      "metadata": {
        "colab": {
          "base_uri": "https://localhost:8080/"
        },
        "id": "aclUb7EZHSz_",
        "outputId": "2e32dc20-d343-4405-ea95-a80444c6ac42"
      },
      "execution_count": null,
      "outputs": [
        {
          "output_type": "stream",
          "name": "stdout",
          "text": [
            "Alphas: [0.95, 0.9, 0.8, 0.5]\n",
            "Page Rank for D: [0.4555778814326893, 0.4201667251006491, 0.36764573423540375, 0.28571319580078125]\n"
          ]
        }
      ]
    },
    {
      "cell_type": "markdown",
      "source": [
        "# Q8"
      ],
      "metadata": {
        "id": "oX8GAOM-J0Nm"
      }
    },
    {
      "cell_type": "code",
      "source": [
        ""
      ],
      "metadata": {
        "id": "tk381bxMJzEb"
      },
      "execution_count": null,
      "outputs": []
    }
  ]
}